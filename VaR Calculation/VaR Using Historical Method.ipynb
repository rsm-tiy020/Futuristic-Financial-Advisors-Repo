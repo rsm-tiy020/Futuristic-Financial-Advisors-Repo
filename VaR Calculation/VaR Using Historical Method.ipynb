{
 "cells": [
  {
   "cell_type": "code",
   "execution_count": 1,
   "metadata": {},
   "outputs": [],
   "source": [
    "import numpy as np\n",
    "import pandas as pd\n",
    "import datetime as dt\n",
    "import yfinance as yf\n",
    "import matplotlib.pyplot as plt\n",
    "from scipy.stats import norm"
   ]
  },
  {
   "cell_type": "markdown",
   "metadata": {},
   "source": [
    "## Set time from a certain number of years"
   ]
  },
  {
   "cell_type": "code",
   "execution_count": 2,
   "metadata": {},
   "outputs": [],
   "source": [
    "years = 15\n",
    "\n",
    "endDate = dt.datetime.now()\n",
    "\n",
    "startDate = endDate - dt.timedelta(days=years*365)"
   ]
  },
  {
   "cell_type": "markdown",
   "metadata": {},
   "source": [
    "## Create a list of tickers"
   ]
  },
  {
   "cell_type": "code",
   "execution_count": 3,
   "metadata": {},
   "outputs": [],
   "source": [
    "tickers = ['SPY', 'BND', 'GLD', 'QQQ', 'VTI']"
   ]
  },
  {
   "cell_type": "markdown",
   "metadata": {},
   "source": [
    "## Download daily Adjusted Close prices for the tickers"
   ]
  },
  {
   "cell_type": "code",
   "execution_count": 4,
   "metadata": {},
   "outputs": [
    {
     "name": "stderr",
     "output_type": "stream",
     "text": [
      "[*********************100%%**********************]  1 of 1 completed\n",
      "[*********************100%%**********************]  1 of 1 completed\n",
      "[*********************100%%**********************]  1 of 1 completed\n",
      "[*********************100%%**********************]  1 of 1 completed\n",
      "[*********************100%%**********************]  1 of 1 completed"
     ]
    },
    {
     "name": "stdout",
     "output_type": "stream",
     "text": [
      "                   SPY        BND         GLD         QQQ         VTI\n",
      "Date                                                                 \n",
      "2009-05-21   67.304924  50.316223   93.849998   29.413809   33.839222\n",
      "2009-05-22   67.161598  50.303188   94.150002   29.317659   33.861988\n",
      "2009-05-26   68.881752  50.199158   93.760002   30.410303   34.772457\n",
      "2009-05-27   67.651978  49.899990   93.449997   30.200508   34.188232\n",
      "2009-05-28   68.595039  50.030090   94.239998   30.550152   34.613117\n",
      "...                ...        ...         ...         ...         ...\n",
      "2024-05-10  520.840027  71.379997  218.710007  442.059998  258.049988\n",
      "2024-05-13  520.909973  71.440002  216.259995  443.079987  258.190002\n",
      "2024-05-14  523.299988  71.650002  218.089996  445.929993  259.450012\n",
      "2024-05-15  529.780029  72.110001  220.889999  452.899994  262.640015\n",
      "2024-05-16  528.690002  71.989998  220.029999  451.980011  261.929993\n",
      "\n",
      "[3773 rows x 5 columns]\n"
     ]
    },
    {
     "name": "stderr",
     "output_type": "stream",
     "text": [
      "\n"
     ]
    }
   ],
   "source": [
    "adjClose = pd.DataFrame()\n",
    "\n",
    "for ticker in tickers:\n",
    "    adjClose[ticker] = yf.download(ticker, startDate, endDate)['Adj Close']\n",
    "\n",
    "print(adjClose)"
   ]
  },
  {
   "cell_type": "markdown",
   "metadata": {},
   "source": [
    "## Calculate the daily log returns & drop NAs"
   ]
  },
  {
   "cell_type": "code",
   "execution_count": 5,
   "metadata": {},
   "outputs": [
    {
     "name": "stdout",
     "output_type": "stream",
     "text": [
      "                 SPY       BND       GLD       QQQ       VTI\n",
      "Date                                                        \n",
      "2009-05-22 -0.002132 -0.000259  0.003192 -0.003274  0.000673\n",
      "2009-05-26  0.025290 -0.002070 -0.004151  0.036591  0.026533\n",
      "2009-05-27 -0.018015 -0.005977 -0.003312 -0.006923 -0.016944\n",
      "2009-05-28  0.013844  0.002604  0.008418  0.011511  0.012351\n",
      "2009-05-29  0.017553  0.007123  0.020585  0.012229  0.015444\n",
      "...              ...       ...       ...       ...       ...\n",
      "2024-05-10  0.001287 -0.002798  0.008080  0.002355  0.000930\n",
      "2024-05-13  0.000134  0.000840 -0.011265  0.002305  0.000542\n",
      "2024-05-14  0.004578  0.002935  0.008426  0.006412  0.004868\n",
      "2024-05-15  0.012307  0.006400  0.012757  0.015509  0.012220\n",
      "2024-05-16 -0.002060 -0.001666 -0.003901 -0.002033 -0.002707\n",
      "\n",
      "[3772 rows x 5 columns]\n"
     ]
    }
   ],
   "source": [
    "logReturns = np.log(adjClose / adjClose.shift(1))\n",
    "\n",
    "logReturns = logReturns.dropna()\n",
    "\n",
    "print(logReturns)"
   ]
  },
  {
   "cell_type": "markdown",
   "metadata": {},
   "source": [
    "## Create an equal weight portfolio"
   ]
  },
  {
   "cell_type": "code",
   "execution_count": 6,
   "metadata": {},
   "outputs": [
    {
     "name": "stdout",
     "output_type": "stream",
     "text": [
      "[0.2 0.2 0.2 0.2 0.2]\n"
     ]
    }
   ],
   "source": [
    "portfolio_value = 1000000\n",
    "weights = np.array([1/len(tickers)]*len(tickers))\n",
    "print(weights)"
   ]
  },
  {
   "cell_type": "markdown",
   "metadata": {},
   "source": [
    "## Calculating Historical Portfolio Returns"
   ]
  },
  {
   "cell_type": "code",
   "execution_count": 7,
   "metadata": {},
   "outputs": [
    {
     "name": "stdout",
     "output_type": "stream",
     "text": [
      "Date\n",
      "2009-05-22   -0.000360\n",
      "2009-05-26    0.016438\n",
      "2009-05-27   -0.010234\n",
      "2009-05-28    0.009746\n",
      "2009-05-29    0.014587\n",
      "                ...   \n",
      "2024-05-10    0.001971\n",
      "2024-05-13   -0.001489\n",
      "2024-05-14    0.005444\n",
      "2024-05-15    0.011839\n",
      "2024-05-16   -0.002473\n",
      "Length: 3772, dtype: float64\n"
     ]
    }
   ],
   "source": [
    "historical_returns = (logReturns * weights).sum(axis =1)\n",
    "print(historical_returns)"
   ]
  },
  {
   "cell_type": "markdown",
   "metadata": {},
   "source": [
    "## Finding X-Day Historical Returns"
   ]
  },
  {
   "cell_type": "code",
   "execution_count": 8,
   "metadata": {},
   "outputs": [
    {
     "name": "stdout",
     "output_type": "stream",
     "text": [
      "Date\n",
      "2009-08-03    0.089973\n",
      "2009-08-04    0.093138\n",
      "2009-08-05    0.073844\n",
      "2009-08-06    0.079634\n",
      "2009-08-07    0.074616\n",
      "                ...   \n",
      "2024-05-10    0.040516\n",
      "2024-05-13    0.027757\n",
      "2024-05-14    0.031588\n",
      "2024-05-15    0.048912\n",
      "2024-05-16    0.041001\n",
      "Length: 3723, dtype: float64\n"
     ]
    }
   ],
   "source": [
    "days = 50\n",
    "\n",
    "range_returns = historical_returns.rolling(window = days).sum()\n",
    "range_returns = range_returns.dropna()\n",
    "print(range_returns)"
   ]
  },
  {
   "cell_type": "markdown",
   "metadata": {},
   "source": [
    "## Calculating VaR Using the Historical Method"
   ]
  },
  {
   "cell_type": "code",
   "execution_count": 9,
   "metadata": {},
   "outputs": [
    {
     "name": "stdout",
     "output_type": "stream",
     "text": [
      "109874.33556273163\n"
     ]
    }
   ],
   "source": [
    "confidence_interval = 0.99\n",
    "\n",
    "VaR = -np.percentile(range_returns, 100 - (confidence_interval * 100))*portfolio_value\n",
    "print(VaR)"
   ]
  },
  {
   "cell_type": "markdown",
   "metadata": {},
   "source": [
    "## Plotting the Results of the Historical Returns"
   ]
  },
  {
   "cell_type": "code",
   "execution_count": 10,
   "metadata": {},
   "outputs": [
    {
     "data": {
      "image/png": "[encoded data removed]",
      "text/plain": [
       "<Figure size 640x480 with 1 Axes>"
      ]
     },
     "metadata": {},
     "output_type": "display_data"
    }
   ],
   "source": [
    "return_window = days\n",
    "range_returns = historical_returns.rolling(window=return_window).sum()\n",
    "range_returns = range_returns.dropna()\n",
    "\n",
    "range_returns_dollar = range_returns * portfolio_value\n",
    "\n",
    "plt.hist(range_returns_dollar.dropna(), bins=50, density=True)\n",
    "plt.xlabel(f'{return_window}-Day Portfolio Return (Dollar Value)')\n",
    "plt.ylabel('Frequency')\n",
    "plt.title(f'Distribution of Portfolio {return_window}-Day Returns (Dollar Value)')\n",
    "plt.axvline(-VaR, color='r', linestyle='dashed', linewidth=2, label=f'VaR at {confidence_interval:.0%} confidence level')\n",
    "plt.legend()\n",
    "plt.show()"
   ]
  }
 ],
 "metadata": {
  "kernelspec": {
   "display_name": "base",
   "language": "python",
   "name": "python3"
  },
  "language_info": {
   "codemirror_mode": {
    "name": "ipython",
    "version": 3
   },
   "file_extension": ".py",
   "mimetype": "text/x-python",
   "name": "python",
   "nbconvert_exporter": "python",
   "pygments_lexer": "ipython3",
   "version": "3.11.7"
  }
 },
 "nbformat": 4,
 "nbformat_minor": 2
}
