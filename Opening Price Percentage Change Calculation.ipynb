{
 "cells": [
  {
   "cell_type": "code",
   "execution_count": null,
   "metadata": {},
   "outputs": [],
   "source": [
    "import pandas as pd\n",
    "\n",
    "file_path = 'Whatever.csv'\n",
    "data = pd.read_csv(file_path)\n",
    "\n",
    "data['Open_price_percent_change'] = data['Open'].shift(-1).sub(data['Open']).div(data['Open']).mul(100)\n",
    "\n",
    "data.head()\n",
    "\n",
    "data.to_csv('/Users/.../Downloads/Whatever_Modified_Data.csv', index=False)"
   ]
  }
 ],
 "metadata": {
  "language_info": {
   "name": "python"
  }
 },
 "nbformat": 4,
 "nbformat_minor": 2
}
