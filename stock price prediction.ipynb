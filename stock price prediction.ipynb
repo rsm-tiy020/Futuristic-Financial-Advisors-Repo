{
 "cells": [
  {
   "cell_type": "code",
   "execution_count": 1,
   "metadata": {},
   "outputs": [],
   "source": [
    "# pip install yfinance"
   ]
  },
  {
   "cell_type": "markdown",
   "metadata": {},
   "source": [
    "1. **Close (Close Price)**:\n",
    "   - This is the price at which a stock last traded at the end of a trading day.\n",
    "   - It reflects the final market valuation of the stock for that day.\n",
    "\n",
    "\n"
   ]
  },
  {
   "cell_type": "markdown",
   "metadata": {},
   "source": [
    "2. **Adj Close (Adjusted Close Price)**:\n",
    "   - This is the closing price adjusted for factors like dividends, stock splits, and rights offerings.\n",
    "   - Adjustments are necessary because these events can change the price of the stock and could distort historical price comparisons. For example, if a company undergoes a stock split, the number of shares increases, and the market price per share decreases. The adjusted close price reflects this change, allowing for more accurate long-term price comparisons.\n",
    "   - Using the adjusted close price enables more accurate calculations of historical stock returns, as it provides a continuous record of prices that reflect all corporate capital changes."
   ]
  },
  {
   "cell_type": "markdown",
   "metadata": {},
   "source": [
    "## Beta\n",
    "\n",
    "1. **Meaning of Beta Value**:\n",
    "   - **Beta = 1**: The stock or portfolio's price movements are consistent with the market. If the market increases or decreases by 1%, the stock or portfolio also moves approximately 1%.\n",
    "   - **Beta > 1**: The stock or portfolio is more volatile than the market. For example, a Beta of 1.5 means that for every 1% increase in the market, the stock or portfolio might rise by 1.5%; for every 1% decline, it might fall by 1.5%.\n",
    "   - **Beta < 1**: The stock or portfolio's price movements are less than the market. For example, a Beta of 0.5 indicates that the stock or portfolio moves about half as much as the market does.\n",
    "   - **Beta < 0**: The stock or portfolio moves inversely to the market. This is less common and typically seen in certain hedging strategies or special asset categories.\n",
    "\n",
    "2. **Calculation of Beta Value**:\n",
    "   Beta is typically calculated through statistical analysis by dividing the covariance of the stock returns with the market returns by the variance of the market returns.\n",
    "\n",
    "3. **Applications of Beta Value**:\n",
    "   - **Risk Management**: Investors use Beta to assess and manage the market risk of a portfolio.\n",
    "   - **Capital Asset Pricing Model (CAPM)**: In the CAPM, Beta is used to calculate the expected return of an asset, helping investors decide whether an investment is attractive.\n",
    "   - **Portfolio Construction**: By mixing assets with high and low Betas, investors can adjust the overall risk level of a portfolio according to their risk tolerance.\n"
   ]
  },
  {
   "cell_type": "code",
   "execution_count": 2,
   "metadata": {},
   "outputs": [
    {
     "name": "stderr",
     "output_type": "stream",
     "text": [
      "[*********************100%%**********************]  1 of 1 completed\n"
     ]
    },
    {
     "name": "stdout",
     "output_type": "stream",
     "text": [
      "Data saved to 'AAPL_stock_prices_hourly_with_beta_and_returns_std_dev.csv', including hourly returns, their standard deviation, and beta value.\n"
     ]
    }
   ],
   "source": [
    "import yfinance as yf\n",
    "\n",
    "ticker = 'AAPL'  # Example: Apple Inc.\n",
    "start_date = '2024-05-01'\n",
    "end_date = '2024-05-06'\n",
    "\n",
    "# Fetch hourly market data\n",
    "data = yf.download(ticker, start=start_date, end=end_date, interval='30m')# change interval to '1h' for hourly data\n",
    "\n",
    "# Calculate hourly returns based on 'Open' prices\n",
    "data['Hourly Returns'] = data['Open'].pct_change()\n",
    "\n",
    "# Calculate the standard deviation of hourly returns\n",
    "hourly_returns_std_dev = data['Hourly Returns'].std()\n",
    "\n",
    "# Append standard deviation to the data DataFrame\n",
    "data['Hourly Returns Std Dev'] = hourly_returns_std_dev\n",
    "\n",
    "# Get stock information including beta\n",
    "stock_info = yf.Ticker(ticker)\n",
    "beta = stock_info.info.get('beta', 'N/A')  # Use get to avoid KeyError if beta is not available\n",
    "\n",
    "# Append beta value to the DataFrame\n",
    "data['Beta'] = beta\n",
    "\n",
    "csv_filename = f'{ticker}_stock_prices_hourly_with_beta_and_returns_std_dev.csv'\n",
    "data.to_csv(csv_filename)\n",
    "\n",
    "print(f\"Data saved to '{csv_filename}', including hourly returns, their standard deviation, and beta value.\")"
   ]
  },
  {
   "cell_type": "code",
   "execution_count": 3,
   "metadata": {},
   "outputs": [
    {
     "name": "stdout",
     "output_type": "stream",
     "text": [
      "Data and metrics saved to 'AAPL_financial_metrics.csv'\n"
     ]
    }
   ],
   "source": [
    "import yfinance as yf\n",
    "import numpy as np\n",
    "\n",
    "# Set the stock ticker and date range\n",
    "ticker = 'AAPL'  # For example, for Apple Inc.\n",
    "start_date = '2023-01-01'\n",
    "end_date = '2023-05-01'\n",
    "\n",
    "# Get stock and other financial information\n",
    "stock = yf.Ticker(ticker)\n",
    "info = stock.info\n",
    "\n",
    "# Fetch historical market data\n",
    "data = stock.history(start=start_date, end=end_date)\n",
    "\n",
    "# Calculate dividend yield\n",
    "dividend_yield = info.get('dividendYield', np.nan) * 100  # Convert to percentage\n",
    "\n",
    "# Fetch P/E Ratio\n",
    "pe_ratio = info.get('trailingPE', np.nan)\n",
    "\n",
    "# Calculate the daily returns\n",
    "daily_returns = data['Close'].pct_change()\n",
    "\n",
    "# Assume a risk-free rate (e.g., 1-year Treasury rate, here simplified as 1.5% annually)\n",
    "risk_free_rate = 0.015\n",
    "daily_risk_free_rate = (1 + risk_free_rate) ** (1/252) - 1  # Converting annual rate to daily\n",
    "\n",
    "# Calculate excess returns\n",
    "excess_returns = daily_returns - daily_risk_free_rate\n",
    "\n",
    "# Calculate Sharpe Ratio (annualized)\n",
    "sharpe_ratio = (excess_returns.mean() / excess_returns.std()) * np.sqrt(252)\n",
    "\n",
    "# Save results to CSV\n",
    "results = {\n",
    "    'Beta': info.get('beta', np.nan),\n",
    "    'Dividend Yield (%)': dividend_yield,\n",
    "    'P/E Ratio': pe_ratio,\n",
    "    'Sharpe Ratio': sharpe_ratio\n",
    "}\n",
    "\n",
    "# Append these results to the data DataFrame\n",
    "for key, value in results.items():\n",
    "    data[key] = value\n",
    "\n",
    "csv_filename = f'{ticker}_financial_metrics.csv'\n",
    "data.to_csv(csv_filename)\n",
    "\n",
    "print(f\"Data and metrics saved to '{csv_filename}'\")\n"
   ]
  },
  {
   "cell_type": "code",
   "execution_count": 4,
   "metadata": {},
   "outputs": [],
   "source": [
    "#pip install alpha_vantage"
   ]
  },
  {
   "cell_type": "code",
   "execution_count": 5,
   "metadata": {},
   "outputs": [],
   "source": [
    "# from alpha_vantage.timeseries import TimeSeries\n",
    "# import pandas as pd\n",
    "\n",
    "# key = 'V5YICZQHLXV22U8R'  # instead of 'your\n",
    "# ts = TimeSeries(key)\n",
    "# data, meta_data = ts.get_daily(symbol='AAPL')\n",
    "\n",
    "# df = pd.DataFrame(data)\n",
    "# print(df.head())"
   ]
  },
  {
   "cell_type": "markdown",
   "metadata": {},
   "source": [
    "## *Get stock price data from https://www.nasdaq.com/market-activity/stocks/screener*"
   ]
  },
  {
   "cell_type": "code",
   "execution_count": 6,
   "metadata": {},
   "outputs": [
    {
     "name": "stdout",
     "output_type": "stream",
     "text": [
      "Requirement already satisfied: yfinance in /opt/conda/lib/python3.11/site-packages (0.2.40)\n",
      "Requirement already satisfied: pandas>=1.3.0 in /opt/conda/lib/python3.11/site-packages (from yfinance) (2.1.4)\n",
      "Requirement already satisfied: numpy>=1.16.5 in /opt/conda/lib/python3.11/site-packages (from yfinance) (1.26.2)\n",
      "Requirement already satisfied: requests>=2.31 in /opt/conda/lib/python3.11/site-packages (from yfinance) (2.31.0)\n",
      "Requirement already satisfied: multitasking>=0.0.7 in /opt/conda/lib/python3.11/site-packages (from yfinance) (0.0.11)\n",
      "Requirement already satisfied: lxml>=4.9.1 in /opt/conda/lib/python3.11/site-packages (from yfinance) (5.2.2)\n",
      "Requirement already satisfied: platformdirs>=2.0.0 in /opt/conda/lib/python3.11/site-packages (from yfinance) (4.1.0)\n",
      "Requirement already satisfied: pytz>=2022.5 in /opt/conda/lib/python3.11/site-packages (from yfinance) (2023.3.post1)\n",
      "Requirement already satisfied: frozendict>=2.3.4 in /opt/conda/lib/python3.11/site-packages (from yfinance) (2.4.4)\n",
      "Requirement already satisfied: peewee>=3.16.2 in /opt/conda/lib/python3.11/site-packages (from yfinance) (3.17.5)\n",
      "Requirement already satisfied: beautifulsoup4>=4.11.1 in /opt/conda/lib/python3.11/site-packages (from yfinance) (4.12.2)\n",
      "Requirement already satisfied: html5lib>=1.1 in /opt/conda/lib/python3.11/site-packages (from yfinance) (1.1)\n",
      "Requirement already satisfied: soupsieve>1.2 in /opt/conda/lib/python3.11/site-packages (from beautifulsoup4>=4.11.1->yfinance) (2.5)\n",
      "Requirement already satisfied: six>=1.9 in /opt/conda/lib/python3.11/site-packages (from html5lib>=1.1->yfinance) (1.16.0)\n",
      "Requirement already satisfied: webencodings in /opt/conda/lib/python3.11/site-packages (from html5lib>=1.1->yfinance) (0.5.1)\n",
      "Requirement already satisfied: python-dateutil>=2.8.2 in /opt/conda/lib/python3.11/site-packages (from pandas>=1.3.0->yfinance) (2.8.2)\n",
      "Requirement already satisfied: tzdata>=2022.1 in /opt/conda/lib/python3.11/site-packages (from pandas>=1.3.0->yfinance) (2023.3)\n",
      "Requirement already satisfied: charset-normalizer<4,>=2 in /opt/conda/lib/python3.11/site-packages (from requests>=2.31->yfinance) (3.3.2)\n",
      "Requirement already satisfied: idna<4,>=2.5 in /opt/conda/lib/python3.11/site-packages (from requests>=2.31->yfinance) (3.6)\n",
      "Requirement already satisfied: urllib3<3,>=1.21.1 in /opt/conda/lib/python3.11/site-packages (from requests>=2.31->yfinance) (1.26.18)\n",
      "Requirement already satisfied: certifi>=2017.4.17 in /opt/conda/lib/python3.11/site-packages (from requests>=2.31->yfinance) (2023.11.17)\n",
      "Note: you may need to restart the kernel to use updated packages.\n"
     ]
    }
   ],
   "source": [
    "pip install yfinance"
   ]
  },
  {
   "cell_type": "code",
   "execution_count": 7,
   "metadata": {},
   "outputs": [
    {
     "name": "stderr",
     "output_type": "stream",
     "text": [
      "404 Client Error: Not Found for url: https://query2.finance.yahoo.com/v10/finance/quoteSummary/ABR%5ED?modules=financialData%2CquoteType%2CdefaultKeyStatistics%2CassetProfile%2CsummaryDetail&corsDomain=finance.yahoo.com&formatted=false&symbol=ABR%5ED&crumb=5.vJeEr2WZT\n",
      "404 Client Error: Not Found for url: https://query2.finance.yahoo.com/v10/finance/quoteSummary/ABR%5EE?modules=financialData%2CquoteType%2CdefaultKeyStatistics%2CassetProfile%2CsummaryDetail&corsDomain=finance.yahoo.com&formatted=false&symbol=ABR%5EE&crumb=5.vJeEr2WZT\n",
      "404 Client Error: Not Found for url: https://query2.finance.yahoo.com/v10/finance/quoteSummary/ABR%5EF?modules=financialData%2CquoteType%2CdefaultKeyStatistics%2CassetProfile%2CsummaryDetail&corsDomain=finance.yahoo.com&formatted=false&symbol=ABR%5EF&crumb=5.vJeEr2WZT\n",
      "404 Client Error: Not Found for url: https://query2.finance.yahoo.com/v10/finance/quoteSummary/ACP%5EA?modules=financialData%2CquoteType%2CdefaultKeyStatistics%2CassetProfile%2CsummaryDetail&corsDomain=finance.yahoo.com&formatted=false&symbol=ACP%5EA&crumb=5.vJeEr2WZT\n",
      "404 Client Error: Not Found for url: https://query2.finance.yahoo.com/v10/finance/quoteSummary/ACR%5EC?modules=financialData%2CquoteType%2CdefaultKeyStatistics%2CassetProfile%2CsummaryDetail&corsDomain=finance.yahoo.com&formatted=false&symbol=ACR%5EC&crumb=5.vJeEr2WZT\n",
      "404 Client Error: Not Found for url: https://query2.finance.yahoo.com/v10/finance/quoteSummary/ACR%5ED?modules=financialData%2CquoteType%2CdefaultKeyStatistics%2CassetProfile%2CsummaryDetail&corsDomain=finance.yahoo.com&formatted=false&symbol=ACR%5ED&crumb=5.vJeEr2WZT\n",
      "404 Client Error: Not Found for url: https://query2.finance.yahoo.com/v10/finance/quoteSummary/ADC%5EA?modules=financialData%2CquoteType%2CdefaultKeyStatistics%2CassetProfile%2CsummaryDetail&corsDomain=finance.yahoo.com&formatted=false&symbol=ADC%5EA&crumb=5.vJeEr2WZT\n"
     ]
    },
    {
     "name": "stdout",
     "output_type": "stream",
     "text": [
      "  Symbol   Beta\n",
      "0      A  1.068\n",
      "1     AA  2.458\n",
      "2   AACG  1.022\n",
      "3   AACI -0.018\n",
      "4  AACIW -0.018\n"
     ]
    }
   ],
   "source": [
    "import pandas as pd\n",
    "import yfinance as yf\n",
    "\n",
    "df = pd.read_csv('stock_100.csv')\n",
    "\n",
    "tickers = df['Symbol'].tolist()\n",
    "\n",
    "results = pd.DataFrame()\n",
    "\n",
    "for ticker in tickers:\n",
    "    stock = yf.Ticker(ticker)\n",
    "    try:\n",
    "        info = stock.info\n",
    "        beta = info.get('beta', 'N/A')  \n",
    "    except Exception as e:\n",
    "        print(f\"Error retrieving data for {ticker}: {e}\")\n",
    "        beta = 'N/A'  \n",
    "\n",
    "    temp_df = pd.DataFrame({\n",
    "        'Symbol': [ticker],\n",
    "        'Beta': [beta]\n",
    "    })\n",
    "    results = pd.concat([results, temp_df], ignore_index=True)\n",
    "\n",
    "print(results.head())\n",
    "\n",
    "results.to_csv('beta_values.csv', index=False)\n"
   ]
  },
  {
   "cell_type": "code",
   "execution_count": 8,
   "metadata": {},
   "outputs": [
    {
     "name": "stderr",
     "output_type": "stream",
     "text": [
      "404 Client Error: Not Found for url: https://query2.finance.yahoo.com/v10/finance/quoteSummary/ABR%5ED?modules=financialData%2CquoteType%2CdefaultKeyStatistics%2CassetProfile%2CsummaryDetail&corsDomain=finance.yahoo.com&formatted=false&symbol=ABR%5ED&crumb=5.vJeEr2WZT\n",
      "404 Client Error: Not Found for url: https://query2.finance.yahoo.com/v10/finance/quoteSummary/ABR%5EE?modules=financialData%2CquoteType%2CdefaultKeyStatistics%2CassetProfile%2CsummaryDetail&corsDomain=finance.yahoo.com&formatted=false&symbol=ABR%5EE&crumb=5.vJeEr2WZT\n",
      "404 Client Error: Not Found for url: https://query2.finance.yahoo.com/v10/finance/quoteSummary/ABR%5EF?modules=financialData%2CquoteType%2CdefaultKeyStatistics%2CassetProfile%2CsummaryDetail&corsDomain=finance.yahoo.com&formatted=false&symbol=ABR%5EF&crumb=5.vJeEr2WZT\n",
      "404 Client Error: Not Found for url: https://query2.finance.yahoo.com/v10/finance/quoteSummary/ACP%5EA?modules=financialData%2CquoteType%2CdefaultKeyStatistics%2CassetProfile%2CsummaryDetail&corsDomain=finance.yahoo.com&formatted=false&symbol=ACP%5EA&crumb=5.vJeEr2WZT\n",
      "404 Client Error: Not Found for url: https://query2.finance.yahoo.com/v10/finance/quoteSummary/ACR%5EC?modules=financialData%2CquoteType%2CdefaultKeyStatistics%2CassetProfile%2CsummaryDetail&corsDomain=finance.yahoo.com&formatted=false&symbol=ACR%5EC&crumb=5.vJeEr2WZT\n",
      "404 Client Error: Not Found for url: https://query2.finance.yahoo.com/v10/finance/quoteSummary/ACR%5ED?modules=financialData%2CquoteType%2CdefaultKeyStatistics%2CassetProfile%2CsummaryDetail&corsDomain=finance.yahoo.com&formatted=false&symbol=ACR%5ED&crumb=5.vJeEr2WZT\n",
      "404 Client Error: Not Found for url: https://query2.finance.yahoo.com/v10/finance/quoteSummary/ADC%5EA?modules=financialData%2CquoteType%2CdefaultKeyStatistics%2CassetProfile%2CsummaryDetail&corsDomain=finance.yahoo.com&formatted=false&symbol=ADC%5EA&crumb=5.vJeEr2WZT\n"
     ]
    },
    {
     "name": "stdout",
     "output_type": "stream",
     "text": [
      "  Symbol                 Industry   Beta\n",
      "0      A      Electrical Products  1.068\n",
      "1     AA                 Aluminum  2.458\n",
      "2   AACG  Other Consumer Services  1.022\n",
      "3   AACI             Blank Checks -0.018\n",
      "4  AACIW             Blank Checks -0.018\n"
     ]
    }
   ],
   "source": [
    "import pandas as pd\n",
    "import yfinance as yf\n",
    "\n",
    "df = pd.read_csv('stock_100.csv')\n",
    "\n",
    "tickers = df['Symbol'].tolist()\n",
    "industries = df['Industry'].tolist()\n",
    "\n",
    "results = pd.DataFrame()\n",
    "\n",
    "for ticker, industry in zip(tickers, industries):\n",
    "    stock = yf.Ticker(ticker)\n",
    "    try:\n",
    "        info = stock.info\n",
    "        beta = info.get('beta', 'N/A')\n",
    "    except Exception as e:\n",
    "        print(f\"Error retrieving data for {ticker}: {e}\")\n",
    "        beta = 'N/A'\n",
    "\n",
    "    temp_df = pd.DataFrame({\n",
    "        'Symbol': [ticker],\n",
    "        'Industry': [industry],\n",
    "        'Beta': [beta]\n",
    "    })\n",
    "    results = pd.concat([results, temp_df], ignore_index=True)\n",
    "\n",
    "print(results.head())\n",
    "\n",
    "results.to_csv('beta_values_with_industry.csv', index=False)\n"
   ]
  },
  {
   "cell_type": "code",
   "execution_count": 9,
   "metadata": {},
   "outputs": [
    {
     "name": "stdout",
     "output_type": "stream",
     "text": [
      "Requirement already satisfied: pandas in /opt/conda/lib/python3.11/site-packages (2.1.4)\n",
      "Requirement already satisfied: fuzzywuzzy in /opt/conda/lib/python3.11/site-packages (0.18.0)\n",
      "Requirement already satisfied: python-Levenshtein in /opt/conda/lib/python3.11/site-packages (0.25.1)\n",
      "Requirement already satisfied: numpy<2,>=1.23.2 in /opt/conda/lib/python3.11/site-packages (from pandas) (1.26.2)\n",
      "Requirement already satisfied: python-dateutil>=2.8.2 in /opt/conda/lib/python3.11/site-packages (from pandas) (2.8.2)\n",
      "Requirement already satisfied: pytz>=2020.1 in /opt/conda/lib/python3.11/site-packages (from pandas) (2023.3.post1)\n",
      "Requirement already satisfied: tzdata>=2022.1 in /opt/conda/lib/python3.11/site-packages (from pandas) (2023.3)\n",
      "Requirement already satisfied: Levenshtein==0.25.1 in /opt/conda/lib/python3.11/site-packages (from python-Levenshtein) (0.25.1)\n",
      "Requirement already satisfied: rapidfuzz<4.0.0,>=3.8.0 in /opt/conda/lib/python3.11/site-packages (from Levenshtein==0.25.1->python-Levenshtein) (3.9.1)\n",
      "Requirement already satisfied: six>=1.5 in /opt/conda/lib/python3.11/site-packages (from python-dateutil>=2.8.2->pandas) (1.16.0)\n",
      "Note: you may need to restart the kernel to use updated packages.\n"
     ]
    }
   ],
   "source": [
    "pip install pandas fuzzywuzzy python-Levenshtein"
   ]
  },
  {
   "cell_type": "code",
   "execution_count": 10,
   "metadata": {},
   "outputs": [],
   "source": [
    "# import pandas as pd\n",
    "# from fuzzywuzzy import process\n",
    "\n",
    "# stocks_df = pd.read_csv('beta_values_with_industry.csv')\n",
    "\n",
    "# stocks_df['Industry'] = stocks_df['Industry'].astype(str).fillna('Unknown')\n",
    "\n",
    "# standard_industries = [\n",
    "#     \"Advertising\", \"Aerospace/Defense\", \"Air Transport\", \"Apparel\", \"Auto & Truck\",\n",
    "#     \"Auto Parts\", \"Bank (Money Center)\", \"Banks (Regional)\", \"Beverage (Alcoholic)\",\n",
    "#     \"Beverage (Soft)\", \"Broadcasting\", \"Brokerage & Investment Banking\",\n",
    "#     \"Building Materials\", \"Business & Consumer Services\", \"Cable TV\",\n",
    "#     \"Chemical (Basic)\", \"Chemical (Diversified)\", \"Chemical (Specialty)\",\n",
    "#     \"Coal & Related Energy\", \"Computer Services\", \"Computers/Peripherals\",\n",
    "#     \"Construction Supplies\", \"Diversified\", \"Drugs (Biotechnology)\",\n",
    "#     \"Drugs (Pharmaceutical)\", \"Education\", \"Electrical Equipment\",\n",
    "#     \"Electronics (Consumer & Office)\", \"Electronics (General)\",\n",
    "#     \"Engineering/Construction\", \"Entertainment\", \"Environmental & Waste Services\",\n",
    "#     \"Farming/Agriculture\", \"Financial Svcs. (Non-bank & Insurance)\",\n",
    "#     \"Food Processing\", \"Food Wholesalers\", \"Furn/Home Furnishings\",\n",
    "#     \"Green & Renewable Energy\", \"Healthcare Products\", \"Healthcare Support Services\",\n",
    "#     \"Healthcare Information and Technology\", \"Homebuilding\",\n",
    "#     \"Hospitals/Healthcare Facilities\", \"Hotel/Gaming\", \"Household Products\",\n",
    "#     \"Information Services\", \"Insurance (General)\", \"Insurance (Life)\",\n",
    "#     \"Insurance (Property/Casualty)\", \"Investments & Asset Management\",\n",
    "#     \"Machinery\", \"Metals & Mining\", \"Office Equipment & Services\",\n",
    "#     \"Oil/Gas (Integrated)\", \"Oil/Gas (Production and Exploration)\",\n",
    "#     \"Oil/Gas Distribution\", \"Oilfield Services/Equipment\", \"Packaging & Container\",\n",
    "#     \"Paper/Forest Products\", \"Power\", \"Precious Metals\", \"Publishing & Newspapers\",\n",
    "#     \"R.E.I.T.\", \"Real Estate (Development)\", \"Real Estate (General/Diversified)\",\n",
    "#     \"Real Estate (Operations & Services)\", \"Recreation\", \"Reinsurance\",\n",
    "#     \"Restaurant/Dining\", \"Retail (Automotive)\", \"Retail (Building Supply)\",\n",
    "#     \"Retail (Distributors)\", \"Retail (General)\", \"Retail (Grocery and Food)\",\n",
    "#     \"Retail (REITs)\", \"Retail (Special Lines)\", \"Rubber & Tires\", \"Semiconductor\",\n",
    "#     \"Semiconductor Equipment\", \"Shipbuilding & Marine\", \"Shoe\",\n",
    "#     \"Software (Entertainment)\", \"Software (Internet)\", \"Software (System & Application)\",\n",
    "#     \"Steel\", \"Telecom (Wireless)\", \"Telecom Equipment\", \"Telecom Services\",\n",
    "#     \"Tobacco\", \"Transportation\", \"Transportation (Railroads)\", \"Trucking\",\n",
    "#     \"Utility (General)\", \"Utility (Water)\", \"Total Market (without financials)\"\n",
    "# ]\n",
    "\n",
    "# def map_industry(industry):\n",
    "#     if industry == 'Unknown':\n",
    "#         return 'Other'\n",
    "#     best_match, score = process.extractOne(industry, standard_industries)\n",
    "#     return best_match if score >= 75 else 'Other'\n",
    "\n",
    "# stocks_df['Mapped Industry'] = stocks_df['Industry'].apply(map_industry)\n",
    "\n",
    "# print(stocks_df.head())\n",
    "\n",
    "# stocks_df.to_csv('mapped_industry_beta_values.csv', index=False)\n"
   ]
  },
  {
   "cell_type": "code",
   "execution_count": 11,
   "metadata": {},
   "outputs": [
    {
     "name": "stdout",
     "output_type": "stream",
     "text": [
      "Requirement already satisfied: transformers in /opt/conda/lib/python3.11/site-packages (4.41.1)\n",
      "Requirement already satisfied: filelock in /opt/conda/lib/python3.11/site-packages (from transformers) (3.13.1)\n",
      "Requirement already satisfied: huggingface-hub<1.0,>=0.23.0 in /opt/conda/lib/python3.11/site-packages (from transformers) (0.23.1)\n",
      "Requirement already satisfied: numpy>=1.17 in /opt/conda/lib/python3.11/site-packages (from transformers) (1.26.2)\n",
      "Requirement already satisfied: packaging>=20.0 in /opt/conda/lib/python3.11/site-packages (from transformers) (23.2)\n",
      "Requirement already satisfied: pyyaml>=5.1 in /opt/conda/lib/python3.11/site-packages (from transformers) (6.0.1)\n",
      "Requirement already satisfied: regex!=2019.12.17 in /opt/conda/lib/python3.11/site-packages (from transformers) (2023.10.3)\n",
      "Requirement already satisfied: requests in /opt/conda/lib/python3.11/site-packages (from transformers) (2.31.0)\n",
      "Requirement already satisfied: tokenizers<0.20,>=0.19 in /opt/conda/lib/python3.11/site-packages (from transformers) (0.19.1)\n",
      "Requirement already satisfied: safetensors>=0.4.1 in /opt/conda/lib/python3.11/site-packages (from transformers) (0.4.3)\n",
      "Requirement already satisfied: tqdm>=4.27 in /opt/conda/lib/python3.11/site-packages (from transformers) (4.66.1)\n",
      "Requirement already satisfied: fsspec>=2023.5.0 in /opt/conda/lib/python3.11/site-packages (from huggingface-hub<1.0,>=0.23.0->transformers) (2023.12.2)\n",
      "Requirement already satisfied: typing-extensions>=3.7.4.3 in /opt/conda/lib/python3.11/site-packages (from huggingface-hub<1.0,>=0.23.0->transformers) (4.9.0)\n",
      "Requirement already satisfied: charset-normalizer<4,>=2 in /opt/conda/lib/python3.11/site-packages (from requests->transformers) (3.3.2)\n",
      "Requirement already satisfied: idna<4,>=2.5 in /opt/conda/lib/python3.11/site-packages (from requests->transformers) (3.6)\n",
      "Requirement already satisfied: urllib3<3,>=1.21.1 in /opt/conda/lib/python3.11/site-packages (from requests->transformers) (1.26.18)\n",
      "Requirement already satisfied: certifi>=2017.4.17 in /opt/conda/lib/python3.11/site-packages (from requests->transformers) (2023.11.17)\n",
      "Note: you may need to restart the kernel to use updated packages.\n"
     ]
    }
   ],
   "source": [
    "pip install transformers"
   ]
  },
  {
   "cell_type": "code",
   "execution_count": 12,
   "metadata": {},
   "outputs": [],
   "source": [
    "import pandas as pd\n",
    "\n",
    "df = pd.read_excel('industry Beta.xlsx') \n",
    "\n",
    "df.to_csv('industry Beta.csv', index=False)\n"
   ]
  },
  {
   "cell_type": "markdown",
   "metadata": {},
   "source": [
    "## Use BertModel to mapping"
   ]
  },
  {
   "cell_type": "code",
   "execution_count": 13,
   "metadata": {},
   "outputs": [],
   "source": [
    "# import torch\n",
    "# from transformers import BertModel, BertTokenizer\n",
    "# import pandas as pd\n",
    "# from sklearn.metrics.pairwise import cosine_similarity\n",
    "\n",
    "# tokenizer = BertTokenizer.from_pretrained('bert-base-uncased')\n",
    "# model = BertModel.from_pretrained('bert-base-uncased')\n",
    "# model.eval()\n",
    "\n",
    "# df1 = pd.read_csv('stock_100.csv')\n",
    "# df2 = pd.read_csv('industry Beta.csv')\n",
    "\n",
    "# industries1 = df1['Industry'].tolist()\n",
    "# industries2 = df2['Industry Name'].tolist()\n",
    "\n",
    "# def get_bert_embedding(text):\n",
    "#     inputs = tokenizer(text, return_tensors='pt', padding=True, truncation=True, max_length=128)\n",
    "#     with torch.no_grad():\n",
    "#         outputs = model(**inputs)\n",
    "#     return outputs.pooler_output[0].numpy()\n",
    "\n",
    "# embeddings1 = [get_bert_embedding(industry) for industry in industries1]\n",
    "# embeddings2 = [get_bert_embedding(industry) for industry in industries2]\n",
    "\n",
    "# similarity_matrix = cosine_similarity(embeddings1, embeddings2)\n",
    "\n",
    "# matched_indices = similarity_matrix.argmax(axis=1)\n",
    "# matched_industries = [industries2[index] for index in matched_indices]\n",
    "\n",
    "# df1['Matched Industry'] = matched_industries\n",
    "# df1.to_csv('matched_industries.csv', index=False)"
   ]
  },
  {
   "cell_type": "markdown",
   "metadata": {},
   "source": [
    "## Use TF- IDF to mapping"
   ]
  },
  {
   "cell_type": "code",
   "execution_count": 14,
   "metadata": {},
   "outputs": [],
   "source": [
    "import pandas as pd\n",
    "from sklearn.feature_extraction.text import TfidfVectorizer\n",
    "from sklearn.metrics.pairwise import cosine_similarity\n",
    "\n",
    "df1 = pd.read_csv('beta_values_with_industry.csv')\n",
    "df2 = pd.read_csv('industry Beta.csv')\n",
    "\n",
    "df1['Industry'] = df1['Industry'].fillna('Unknown')\n",
    "df2['Industry Name'] = df2['Industry Name'].fillna('Unknown')\n",
    "\n",
    "industries1 = df1['Industry'].tolist()\n",
    "industries2 = df2['Industry Name'].tolist()\n",
    "\n",
    "vectorizer = TfidfVectorizer()\n",
    "\n",
    "all_industries = industries1 + industries2\n",
    "vectorizer.fit(all_industries)\n",
    "\n",
    "tfidf1 = vectorizer.transform(industries1)\n",
    "tfidf2 = vectorizer.transform(industries2)\n",
    "\n",
    "similarity_matrix = cosine_similarity(tfidf1, tfidf2)\n",
    "\n",
    "matched_indices = similarity_matrix.argmax(axis=1)\n",
    "matched_industries = [industries2[index] for index in matched_indices]\n",
    "\n",
    "df1['Matched Industry'] = matched_industries\n",
    "df1.to_csv('matched_industries.csv', index=False)\n"
   ]
  },
  {
   "cell_type": "markdown",
   "metadata": {},
   "source": [
    "## Use sentence-transformers"
   ]
  },
  {
   "cell_type": "code",
   "execution_count": 15,
   "metadata": {},
   "outputs": [],
   "source": [
    "#pip install sentence-transformers"
   ]
  },
  {
   "cell_type": "code",
   "execution_count": 16,
   "metadata": {},
   "outputs": [],
   "source": [
    "# from sentence_transformers import SentenceTransformer\n",
    "# import pandas as pd\n",
    "# from sklearn.metrics.pairwise import cosine_similarity\n",
    "\n",
    "# model = SentenceTransformer('all-MiniLM-L6-v2')\n",
    "\n",
    "# df1 = pd.read_csv('stock_100.csv')\n",
    "# df2 = pd.read_csv('industry Beta.csv')\n",
    "\n",
    "# df1['Industry'] = df1['Industry'].fillna('Unknown')\n",
    "# df2['Industry Name'] = df2['Industry Name'].fillna('Unknown')\n",
    "\n",
    "# embeddings1 = model.encode(df1['Industry'].tolist())\n",
    "# embeddings2 = model.encode(df2['Industry Name'].tolist())\n",
    "\n",
    "# similarity_matrix = cosine_similarity(embeddings1, embeddings2)\n",
    "\n",
    "# matched_indices = similarity_matrix.argmax(axis=1)\n",
    "# matched_industries = [df2['Industry Name'].iloc[index] for index in matched_indices]\n",
    "\n",
    "# df1['Matched Industry'] = matched_industries\n",
    "# df1.to_csv('matched_industries.csv', index=False)\n"
   ]
  },
  {
   "cell_type": "code",
   "execution_count": 17,
   "metadata": {},
   "outputs": [
    {
     "name": "stdout",
     "output_type": "stream",
     "text": [
      "Requirement already satisfied: transformers in /opt/conda/lib/python3.11/site-packages (4.41.1)\n",
      "Requirement already satisfied: torch in /opt/conda/lib/python3.11/site-packages (2.1.0)\n",
      "Requirement already satisfied: requests in /opt/conda/lib/python3.11/site-packages (2.31.0)\n",
      "Requirement already satisfied: filelock in /opt/conda/lib/python3.11/site-packages (from transformers) (3.13.1)\n",
      "Requirement already satisfied: huggingface-hub<1.0,>=0.23.0 in /opt/conda/lib/python3.11/site-packages (from transformers) (0.23.1)\n",
      "Requirement already satisfied: numpy>=1.17 in /opt/conda/lib/python3.11/site-packages (from transformers) (1.26.2)\n",
      "Requirement already satisfied: packaging>=20.0 in /opt/conda/lib/python3.11/site-packages (from transformers) (23.2)\n",
      "Requirement already satisfied: pyyaml>=5.1 in /opt/conda/lib/python3.11/site-packages (from transformers) (6.0.1)\n",
      "Requirement already satisfied: regex!=2019.12.17 in /opt/conda/lib/python3.11/site-packages (from transformers) (2023.10.3)\n",
      "Requirement already satisfied: tokenizers<0.20,>=0.19 in /opt/conda/lib/python3.11/site-packages (from transformers) (0.19.1)\n",
      "Requirement already satisfied: safetensors>=0.4.1 in /opt/conda/lib/python3.11/site-packages (from transformers) (0.4.3)\n",
      "Requirement already satisfied: tqdm>=4.27 in /opt/conda/lib/python3.11/site-packages (from transformers) (4.66.1)\n",
      "Requirement already satisfied: typing-extensions in /opt/conda/lib/python3.11/site-packages (from torch) (4.9.0)\n",
      "Requirement already satisfied: sympy in /opt/conda/lib/python3.11/site-packages (from torch) (1.12)\n",
      "Requirement already satisfied: networkx in /opt/conda/lib/python3.11/site-packages (from torch) (3.2.1)\n",
      "Requirement already satisfied: jinja2 in /opt/conda/lib/python3.11/site-packages (from torch) (3.1.2)\n",
      "Requirement already satisfied: fsspec in /opt/conda/lib/python3.11/site-packages (from torch) (2023.12.2)\n",
      "Requirement already satisfied: charset-normalizer<4,>=2 in /opt/conda/lib/python3.11/site-packages (from requests) (3.3.2)\n",
      "Requirement already satisfied: idna<4,>=2.5 in /opt/conda/lib/python3.11/site-packages (from requests) (3.6)\n",
      "Requirement already satisfied: urllib3<3,>=1.21.1 in /opt/conda/lib/python3.11/site-packages (from requests) (1.26.18)\n",
      "Requirement already satisfied: certifi>=2017.4.17 in /opt/conda/lib/python3.11/site-packages (from requests) (2023.11.17)\n",
      "Requirement already satisfied: MarkupSafe>=2.0 in /opt/conda/lib/python3.11/site-packages (from jinja2->torch) (2.1.3)\n",
      "Requirement already satisfied: mpmath>=0.19 in /opt/conda/lib/python3.11/site-packages (from sympy->torch) (1.3.0)\n",
      "Note: you may need to restart the kernel to use updated packages.\n"
     ]
    }
   ],
   "source": [
    "pip install transformers torch requests"
   ]
  },
  {
   "cell_type": "markdown",
   "metadata": {},
   "source": [
    "## Predict the stock price"
   ]
  },
  {
   "cell_type": "code",
   "execution_count": 25,
   "metadata": {},
   "outputs": [],
   "source": [
    "import numpy as np\n",
    "import pandas as pd\n",
    "from sklearn.preprocessing import MinMaxScaler\n",
    "from keras.models import Sequential\n",
    "from keras.layers import LSTM, Dense\n",
    "from sklearn.model_selection import train_test_split\n",
    "import matplotlib.pyplot as plt\n",
    "\n",
    "# Data preprocessing\n",
    "data = pd.read_csv('snp_beta_macd_signal_rsi_100.csv')\n",
    "\n",
    "\n",
    "price_columns = data.filter(regex='^\\d+/\\d+/\\d+ 0:00$').columns\n",
    "prices = data.loc[0, price_columns].values.reshape(-1, 1)  #the first stock\n",
    "\n",
    "# Normalize prices\n",
    "scaler = MinMaxScaler(feature_range=(0, 1))\n",
    "prices_scaled = scaler.fit_transform(prices)\n",
    "\n",
    "\n"
   ]
  },
  {
   "cell_type": "code",
   "execution_count": 38,
   "metadata": {},
   "outputs": [],
   "source": [
    "def create_dataset(dataset, look_back=1):\n",
    "    X, Y = [], []\n",
    "    for i in range(len(dataset) - look_back):\n",
    "        a = dataset[i:(i + look_back), 0]\n",
    "        X.append(a)\n",
    "        Y.append(dataset[i + look_back, 0])\n",
    "    return np.array(X), np.array(Y)\n",
    "\n",
    "look_back = 200  # previous 3 days\n",
    "X, y = create_dataset(prices_scaled, look_back)\n",
    "\n"
   ]
  },
  {
   "cell_type": "code",
   "execution_count": 39,
   "metadata": {},
   "outputs": [
    {
     "name": "stdout",
     "output_type": "stream",
     "text": [
      "Epoch 1/100\n"
     ]
    },
    {
     "name": "stderr",
     "output_type": "stream",
     "text": [
      "/opt/conda/lib/python3.11/site-packages/keras/src/layers/rnn/rnn.py:204: UserWarning: Do not pass an `input_shape`/`input_dim` argument to a layer. When using Sequential models, prefer using an `Input(shape)` object as the first layer in the model instead.\n",
      "  super().__init__(**kwargs)\n"
     ]
    },
    {
     "name": "stdout",
     "output_type": "stream",
     "text": [
      "26/26 - 1s - 40ms/step - loss: 0.0892\n",
      "Epoch 2/100\n",
      "26/26 - 1s - 22ms/step - loss: 0.0072\n",
      "Epoch 3/100\n",
      "26/26 - 1s - 22ms/step - loss: 0.0035\n",
      "Epoch 4/100\n",
      "26/26 - 0s - 10ms/step - loss: 0.0041\n",
      "Epoch 5/100\n",
      "26/26 - 0s - 12ms/step - loss: 0.0030\n",
      "Epoch 6/100\n",
      "26/26 - 0s - 10ms/step - loss: 0.0040\n",
      "Epoch 7/100\n",
      "26/26 - 0s - 11ms/step - loss: 0.0042\n",
      "Epoch 8/100\n",
      "26/26 - 0s - 12ms/step - loss: 0.0043\n",
      "Epoch 9/100\n",
      "26/26 - 0s - 12ms/step - loss: 0.0043\n",
      "Epoch 10/100\n",
      "26/26 - 0s - 10ms/step - loss: 0.0042\n",
      "Epoch 11/100\n",
      "26/26 - 0s - 13ms/step - loss: 0.0030\n",
      "Epoch 12/100\n",
      "26/26 - 0s - 11ms/step - loss: 0.0031\n",
      "Epoch 13/100\n",
      "26/26 - 0s - 11ms/step - loss: 0.0028\n",
      "Epoch 14/100\n",
      "26/26 - 0s - 11ms/step - loss: 0.0048\n",
      "Epoch 15/100\n",
      "26/26 - 0s - 10ms/step - loss: 0.0028\n",
      "Epoch 16/100\n",
      "26/26 - 0s - 10ms/step - loss: 0.0042\n",
      "Epoch 17/100\n",
      "26/26 - 0s - 11ms/step - loss: 0.0027\n",
      "Epoch 18/100\n",
      "26/26 - 0s - 11ms/step - loss: 0.0034\n",
      "Epoch 19/100\n",
      "26/26 - 0s - 11ms/step - loss: 0.0048\n",
      "Epoch 20/100\n",
      "26/26 - 0s - 11ms/step - loss: 0.0033\n",
      "Epoch 21/100\n",
      "26/26 - 0s - 10ms/step - loss: 0.0039\n",
      "Epoch 22/100\n",
      "26/26 - 0s - 11ms/step - loss: 0.0028\n",
      "Epoch 23/100\n",
      "26/26 - 0s - 13ms/step - loss: 0.0032\n",
      "Epoch 24/100\n",
      "26/26 - 1s - 24ms/step - loss: 0.0024\n",
      "Epoch 25/100\n",
      "26/26 - 0s - 11ms/step - loss: 0.0031\n",
      "Epoch 26/100\n",
      "26/26 - 0s - 10ms/step - loss: 0.0027\n",
      "Epoch 27/100\n",
      "26/26 - 0s - 12ms/step - loss: 0.0032\n",
      "Epoch 28/100\n",
      "26/26 - 0s - 10ms/step - loss: 0.0026\n",
      "Epoch 29/100\n",
      "26/26 - 0s - 10ms/step - loss: 0.0029\n",
      "Epoch 30/100\n",
      "26/26 - 0s - 11ms/step - loss: 0.0032\n",
      "Epoch 31/100\n",
      "26/26 - 0s - 10ms/step - loss: 0.0031\n",
      "Epoch 32/100\n",
      "26/26 - 0s - 10ms/step - loss: 0.0026\n",
      "Epoch 33/100\n",
      "26/26 - 0s - 10ms/step - loss: 0.0023\n",
      "Epoch 34/100\n",
      "26/26 - 0s - 11ms/step - loss: 0.0026\n",
      "Epoch 35/100\n",
      "26/26 - 0s - 10ms/step - loss: 0.0027\n",
      "Epoch 36/100\n",
      "26/26 - 0s - 10ms/step - loss: 0.0035\n",
      "Epoch 37/100\n",
      "26/26 - 0s - 10ms/step - loss: 0.0026\n",
      "Epoch 38/100\n",
      "26/26 - 0s - 9ms/step - loss: 0.0029\n",
      "Epoch 39/100\n",
      "26/26 - 0s - 12ms/step - loss: 0.0026\n",
      "Epoch 40/100\n",
      "26/26 - 0s - 10ms/step - loss: 0.0020\n",
      "Epoch 41/100\n",
      "26/26 - 0s - 10ms/step - loss: 0.0030\n",
      "Epoch 42/100\n",
      "26/26 - 0s - 10ms/step - loss: 0.0028\n",
      "Epoch 43/100\n",
      "26/26 - 0s - 10ms/step - loss: 0.0026\n",
      "Epoch 44/100\n",
      "26/26 - 0s - 10ms/step - loss: 0.0023\n",
      "Epoch 45/100\n",
      "26/26 - 0s - 10ms/step - loss: 0.0024\n",
      "Epoch 46/100\n",
      "26/26 - 0s - 10ms/step - loss: 0.0033\n",
      "Epoch 47/100\n",
      "26/26 - 0s - 10ms/step - loss: 0.0041\n",
      "Epoch 48/100\n",
      "26/26 - 0s - 10ms/step - loss: 0.0035\n",
      "Epoch 49/100\n",
      "26/26 - 0s - 10ms/step - loss: 0.0028\n",
      "Epoch 50/100\n",
      "26/26 - 0s - 10ms/step - loss: 0.0025\n",
      "Epoch 51/100\n",
      "26/26 - 0s - 10ms/step - loss: 0.0024\n",
      "Epoch 52/100\n",
      "26/26 - 0s - 10ms/step - loss: 0.0021\n",
      "Epoch 53/100\n",
      "26/26 - 0s - 10ms/step - loss: 0.0023\n",
      "Epoch 54/100\n",
      "26/26 - 0s - 10ms/step - loss: 0.0026\n",
      "Epoch 55/100\n",
      "26/26 - 0s - 10ms/step - loss: 0.0021\n",
      "Epoch 56/100\n",
      "26/26 - 0s - 10ms/step - loss: 0.0028\n",
      "Epoch 57/100\n",
      "26/26 - 0s - 10ms/step - loss: 0.0022\n",
      "Epoch 58/100\n",
      "26/26 - 0s - 10ms/step - loss: 0.0025\n",
      "Epoch 59/100\n",
      "26/26 - 0s - 10ms/step - loss: 0.0024\n",
      "Epoch 60/100\n",
      "26/26 - 0s - 11ms/step - loss: 0.0023\n",
      "Epoch 61/100\n",
      "26/26 - 0s - 10ms/step - loss: 0.0020\n",
      "Epoch 62/100\n",
      "26/26 - 0s - 10ms/step - loss: 0.0024\n",
      "Epoch 63/100\n",
      "26/26 - 0s - 10ms/step - loss: 0.0019\n",
      "Epoch 64/100\n",
      "26/26 - 0s - 10ms/step - loss: 0.0021\n",
      "Epoch 65/100\n",
      "26/26 - 0s - 10ms/step - loss: 0.0022\n",
      "Epoch 66/100\n",
      "26/26 - 0s - 10ms/step - loss: 0.0022\n",
      "Epoch 67/100\n",
      "26/26 - 0s - 10ms/step - loss: 0.0021\n",
      "Epoch 68/100\n",
      "26/26 - 0s - 10ms/step - loss: 0.0021\n",
      "Epoch 69/100\n",
      "26/26 - 0s - 10ms/step - loss: 0.0025\n",
      "Epoch 70/100\n",
      "26/26 - 0s - 9ms/step - loss: 0.0020\n",
      "Epoch 71/100\n",
      "26/26 - 0s - 10ms/step - loss: 0.0023\n",
      "Epoch 72/100\n",
      "26/26 - 0s - 10ms/step - loss: 0.0026\n",
      "Epoch 73/100\n",
      "26/26 - 0s - 10ms/step - loss: 0.0025\n",
      "Epoch 74/100\n",
      "26/26 - 0s - 9ms/step - loss: 0.0023\n",
      "Epoch 75/100\n",
      "26/26 - 0s - 10ms/step - loss: 0.0027\n",
      "Epoch 76/100\n",
      "26/26 - 0s - 10ms/step - loss: 0.0022\n",
      "Epoch 77/100\n",
      "26/26 - 0s - 10ms/step - loss: 0.0019\n",
      "Epoch 78/100\n",
      "26/26 - 0s - 16ms/step - loss: 0.0025\n",
      "Epoch 79/100\n",
      "26/26 - 0s - 10ms/step - loss: 0.0020\n",
      "Epoch 80/100\n",
      "26/26 - 0s - 10ms/step - loss: 0.0022\n",
      "Epoch 81/100\n",
      "26/26 - 0s - 10ms/step - loss: 0.0018\n",
      "Epoch 82/100\n",
      "26/26 - 0s - 9ms/step - loss: 0.0022\n",
      "Epoch 83/100\n",
      "26/26 - 0s - 10ms/step - loss: 0.0023\n",
      "Epoch 84/100\n",
      "26/26 - 0s - 9ms/step - loss: 0.0025\n",
      "Epoch 85/100\n",
      "26/26 - 0s - 10ms/step - loss: 0.0019\n",
      "Epoch 86/100\n",
      "26/26 - 0s - 10ms/step - loss: 0.0025\n",
      "Epoch 87/100\n",
      "26/26 - 0s - 12ms/step - loss: 0.0018\n",
      "Epoch 88/100\n",
      "26/26 - 0s - 11ms/step - loss: 0.0022\n",
      "Epoch 89/100\n",
      "26/26 - 0s - 10ms/step - loss: 0.0020\n",
      "Epoch 90/100\n",
      "26/26 - 0s - 10ms/step - loss: 0.0023\n",
      "Epoch 91/100\n",
      "26/26 - 0s - 10ms/step - loss: 0.0021\n",
      "Epoch 92/100\n",
      "26/26 - 0s - 10ms/step - loss: 0.0029\n",
      "Epoch 93/100\n",
      "26/26 - 0s - 10ms/step - loss: 0.0023\n",
      "Epoch 94/100\n",
      "26/26 - 0s - 10ms/step - loss: 0.0022\n",
      "Epoch 95/100\n",
      "26/26 - 0s - 10ms/step - loss: 0.0021\n",
      "Epoch 96/100\n",
      "26/26 - 0s - 10ms/step - loss: 0.0017\n",
      "Epoch 97/100\n",
      "26/26 - 0s - 10ms/step - loss: 0.0035\n",
      "Epoch 98/100\n",
      "26/26 - 0s - 10ms/step - loss: 0.0030\n",
      "Epoch 99/100\n",
      "26/26 - 0s - 10ms/step - loss: 0.0018\n",
      "Epoch 100/100\n",
      "26/26 - 0s - 12ms/step - loss: 0.0019\n"
     ]
    },
    {
     "data": {
      "text/plain": [
       "<keras.src.callbacks.history.History at 0xffff150f3e10>"
      ]
     },
     "execution_count": 39,
     "metadata": {},
     "output_type": "execute_result"
    }
   ],
   "source": [
    "X = np.reshape(X, (X.shape[0], X.shape[1], 1))\n",
    "\n",
    "# Split dataset\n",
    "X_train, X_test, y_train, y_test = train_test_split(X, y, test_size=0.2, random_state=0)\n",
    "\n",
    "# Build LSTM model\n",
    "model = Sequential()\n",
    "model.add(LSTM(50, input_shape=(look_back, 1)))\n",
    "model.add(Dense(1))\n",
    "model.compile(loss='mean_squared_error', optimizer='adam')\n",
    "model.fit(X_train, y_train, epochs=100, batch_size=1, verbose=2)\n",
    "\n"
   ]
  },
  {
   "cell_type": "code",
   "execution_count": 40,
   "metadata": {},
   "outputs": [
    {
     "name": "stdout",
     "output_type": "stream",
     "text": [
      "WARNING:tensorflow:5 out of the last 14 calls to <function TensorFlowTrainer.make_predict_function.<locals>.one_step_on_data_distributed at 0xffff1775dbc0> triggered tf.function retracing. Tracing is expensive and the excessive number of tracings could be due to (1) creating @tf.function repeatedly in a loop, (2) passing tensors with different shapes, (3) passing Python objects instead of tensors. For (1), please define your @tf.function outside of the loop. For (2), @tf.function has reduce_retracing=True option that can avoid unnecessary retracing. For (3), please refer to https://www.tensorflow.org/guide/function#controlling_retracing and https://www.tensorflow.org/api_docs/python/tf/function for  more details.\n",
      "\u001b[1m1/1\u001b[0m \u001b[32m━━━━━━━━━━━━━━━━━━━━\u001b[0m\u001b[37m\u001b[0m \u001b[1m0s\u001b[0m 128ms/step\n",
      "WARNING:tensorflow:6 out of the last 15 calls to <function TensorFlowTrainer.make_predict_function.<locals>.one_step_on_data_distributed at 0xffff1775dbc0> triggered tf.function retracing. Tracing is expensive and the excessive number of tracings could be due to (1) creating @tf.function repeatedly in a loop, (2) passing tensors with different shapes, (3) passing Python objects instead of tensors. For (1), please define your @tf.function outside of the loop. For (2), @tf.function has reduce_retracing=True option that can avoid unnecessary retracing. For (3), please refer to https://www.tensorflow.org/guide/function#controlling_retracing and https://www.tensorflow.org/api_docs/python/tf/function for  more details.\n",
      "\u001b[1m1/1\u001b[0m \u001b[32m━━━━━━━━━━━━━━━━━━━━\u001b[0m\u001b[37m\u001b[0m \u001b[1m0s\u001b[0m 84ms/step\n"
     ]
    }
   ],
   "source": [
    "# Predictions\n",
    "train_predict = model.predict(X_train)\n",
    "test_predict = model.predict(X_test)\n",
    "\n",
    "# Inverse normalization to see actual predictions\n",
    "train_predict = scaler.inverse_transform(train_predict)\n",
    "test_predict = scaler.inverse_transform(test_predict)\n",
    "y_train_inv = scaler.inverse_transform(y_train.reshape(-1, 1))\n",
    "y_test_inv = scaler.inverse_transform(y_test.reshape(-1, 1))\n",
    "\n"
   ]
  },
  {
   "cell_type": "code",
   "execution_count": 41,
   "metadata": {},
   "outputs": [
    {
     "data": {
      "image/png": "[encoded data removed]",
      "text/plain": [
       "<Figure size 1200x600 with 1 Axes>"
      ]
     },
     "metadata": {},
     "output_type": "display_data"
    }
   ],
   "source": [
    "# Plot results\n",
    "plt.figure(figsize=(12, 6))\n",
    "plt.plot(y_train_inv.flatten(), label='Actual Price', color='blue')\n",
    "plt.plot(train_predict.flatten(), label='Predicted Price', color='red')\n",
    "plt.title('Train Prediction')\n",
    "plt.xlabel('Time Step')\n",
    "plt.ylabel('Stock Price')\n",
    "plt.legend()\n",
    "plt.show()\n",
    "\n"
   ]
  },
  {
   "cell_type": "code",
   "execution_count": 42,
   "metadata": {},
   "outputs": [
    {
     "data": {
      "image/png": "[encoded data removed]",
      "text/plain": [
       "<Figure size 1200x600 with 1 Axes>"
      ]
     },
     "metadata": {},
     "output_type": "display_data"
    }
   ],
   "source": [
    "plt.figure(figsize=(12, 6))\n",
    "plt.plot(y_test_inv.flatten(), label='Actual Price', color='blue')\n",
    "plt.plot(test_predict.flatten(), label='Predicted Price', color='red')\n",
    "plt.title('Test Prediction')\n",
    "plt.xlabel('Time Step')\n",
    "plt.ylabel('Stock Price')\n",
    "plt.legend()\n",
    "plt.show()"
   ]
  }
 ],
 "metadata": {
  "kernelspec": {
   "display_name": "base",
   "language": "python",
   "name": "python3"
  },
  "language_info": {
   "codemirror_mode": {
    "name": "ipython",
    "version": 3
   },
   "file_extension": ".py",
   "mimetype": "text/x-python",
   "name": "python",
   "nbconvert_exporter": "python",
   "pygments_lexer": "ipython3",
   "version": "3.11.7"
  },
  "orig_nbformat": 4
 },
 "nbformat": 4,
 "nbformat_minor": 2
}
