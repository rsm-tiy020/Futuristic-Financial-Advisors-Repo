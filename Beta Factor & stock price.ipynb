{
 "cells": [
  {
   "cell_type": "code",
   "execution_count": 1,
   "metadata": {},
   "outputs": [
    {
     "name": "stdout",
     "output_type": "stream",
     "text": [
      "Requirement already satisfied: yfinance in /opt/conda/lib/python3.11/site-packages (0.2.38)\n",
      "Requirement already satisfied: pandas>=1.3.0 in /opt/conda/lib/python3.11/site-packages (from yfinance) (2.1.4)\n",
      "Requirement already satisfied: numpy>=1.16.5 in /opt/conda/lib/python3.11/site-packages (from yfinance) (1.26.2)\n",
      "Requirement already satisfied: requests>=2.31 in /opt/conda/lib/python3.11/site-packages (from yfinance) (2.31.0)\n",
      "Requirement already satisfied: multitasking>=0.0.7 in /opt/conda/lib/python3.11/site-packages (from yfinance) (0.0.11)\n",
      "Requirement already satisfied: lxml>=4.9.1 in /opt/conda/lib/python3.11/site-packages (from yfinance) (5.2.1)\n",
      "Requirement already satisfied: appdirs>=1.4.4 in /opt/conda/lib/python3.11/site-packages (from yfinance) (1.4.4)\n",
      "Requirement already satisfied: pytz>=2022.5 in /opt/conda/lib/python3.11/site-packages (from yfinance) (2023.3.post1)\n",
      "Requirement already satisfied: frozendict>=2.3.4 in /opt/conda/lib/python3.11/site-packages (from yfinance) (2.4.4)\n",
      "Requirement already satisfied: peewee>=3.16.2 in /opt/conda/lib/python3.11/site-packages (from yfinance) (3.17.3)\n",
      "Requirement already satisfied: beautifulsoup4>=4.11.1 in /opt/conda/lib/python3.11/site-packages (from yfinance) (4.12.2)\n",
      "Requirement already satisfied: html5lib>=1.1 in /opt/conda/lib/python3.11/site-packages (from yfinance) (1.1)\n",
      "Requirement already satisfied: soupsieve>1.2 in /opt/conda/lib/python3.11/site-packages (from beautifulsoup4>=4.11.1->yfinance) (2.5)\n",
      "Requirement already satisfied: six>=1.9 in /opt/conda/lib/python3.11/site-packages (from html5lib>=1.1->yfinance) (1.16.0)\n",
      "Requirement already satisfied: webencodings in /opt/conda/lib/python3.11/site-packages (from html5lib>=1.1->yfinance) (0.5.1)\n",
      "Requirement already satisfied: python-dateutil>=2.8.2 in /opt/conda/lib/python3.11/site-packages (from pandas>=1.3.0->yfinance) (2.8.2)\n",
      "Requirement already satisfied: tzdata>=2022.1 in /opt/conda/lib/python3.11/site-packages (from pandas>=1.3.0->yfinance) (2023.3)\n",
      "Requirement already satisfied: charset-normalizer<4,>=2 in /opt/conda/lib/python3.11/site-packages (from requests>=2.31->yfinance) (3.3.2)\n",
      "Requirement already satisfied: idna<4,>=2.5 in /opt/conda/lib/python3.11/site-packages (from requests>=2.31->yfinance) (3.6)\n",
      "Requirement already satisfied: urllib3<3,>=1.21.1 in /opt/conda/lib/python3.11/site-packages (from requests>=2.31->yfinance) (1.26.18)\n",
      "Requirement already satisfied: certifi>=2017.4.17 in /opt/conda/lib/python3.11/site-packages (from requests>=2.31->yfinance) (2023.11.17)\n",
      "Note: you may need to restart the kernel to use updated packages.\n"
     ]
    }
   ],
   "source": [
    "pip install yfinance"
   ]
  },
  {
   "cell_type": "markdown",
   "metadata": {},
   "source": [
    "1. **Close (Close Price)**:\n",
    "   - This is the price at which a stock last traded at the end of a trading day.\n",
    "   - It reflects the final market valuation of the stock for that day.\n",
    "\n",
    "\n"
   ]
  },
  {
   "cell_type": "markdown",
   "metadata": {},
   "source": [
    "2. **Adj Close (Adjusted Close Price)**:\n",
    "   - This is the closing price adjusted for factors like dividends, stock splits, and rights offerings.\n",
    "   - Adjustments are necessary because these events can change the price of the stock and could distort historical price comparisons. For example, if a company undergoes a stock split, the number of shares increases, and the market price per share decreases. The adjusted close price reflects this change, allowing for more accurate long-term price comparisons.\n",
    "   - Using the adjusted close price enables more accurate calculations of historical stock returns, as it provides a continuous record of prices that reflect all corporate capital changes."
   ]
  },
  {
   "cell_type": "markdown",
   "metadata": {},
   "source": [
    "## Beta\n",
    "\n",
    "1. **Meaning of Beta Value**:\n",
    "   - **Beta = 1**: The stock or portfolio's price movements are consistent with the market. If the market increases or decreases by 1%, the stock or portfolio also moves approximately 1%.\n",
    "   - **Beta > 1**: The stock or portfolio is more volatile than the market. For example, a Beta of 1.5 means that for every 1% increase in the market, the stock or portfolio might rise by 1.5%; for every 1% decline, it might fall by 1.5%.\n",
    "   - **Beta < 1**: The stock or portfolio's price movements are less than the market. For example, a Beta of 0.5 indicates that the stock or portfolio moves about half as much as the market does.\n",
    "   - **Beta < 0**: The stock or portfolio moves inversely to the market. This is less common and typically seen in certain hedging strategies or special asset categories.\n",
    "\n",
    "2. **Calculation of Beta Value**:\n",
    "   Beta is typically calculated through statistical analysis by dividing the covariance of the stock returns with the market returns by the variance of the market returns.\n",
    "\n",
    "3. **Applications of Beta Value**:\n",
    "   - **Risk Management**: Investors use Beta to assess and manage the market risk of a portfolio.\n",
    "   - **Capital Asset Pricing Model (CAPM)**: In the CAPM, Beta is used to calculate the expected return of an asset, helping investors decide whether an investment is attractive.\n",
    "   - **Portfolio Construction**: By mixing assets with high and low Betas, investors can adjust the overall risk level of a portfolio according to their risk tolerance.\n"
   ]
  },
  {
   "cell_type": "code",
   "execution_count": 2,
   "metadata": {},
   "outputs": [
    {
     "name": "stderr",
     "output_type": "stream",
     "text": [
      "[*********************100%%**********************]  1 of 1 completed"
     ]
    },
    {
     "name": "stdout",
     "output_type": "stream",
     "text": [
      "Data saved to 'AAPL_stock_prices_hourly_with_beta_and_returns_std_dev.csv', including hourly returns, their standard deviation, and beta value.\n"
     ]
    },
    {
     "name": "stderr",
     "output_type": "stream",
     "text": [
      "\n"
     ]
    }
   ],
   "source": [
    "import yfinance as yf\n",
    "\n",
    "ticker = 'AAPL'  # Example: Apple Inc.\n",
    "start_date = '2024-05-01'\n",
    "end_date = '2024-05-06'\n",
    "\n",
    "# Fetch hourly market data\n",
    "data = yf.download(ticker, start=start_date, end=end_date, interval='30m')# change interval to '1h' for hourly data\n",
    "\n",
    "# Calculate hourly returns based on 'Open' prices\n",
    "data['Hourly Returns'] = data['Open'].pct_change()\n",
    "\n",
    "# Calculate the standard deviation of hourly returns\n",
    "hourly_returns_std_dev = data['Hourly Returns'].std()\n",
    "\n",
    "# Append standard deviation to the data DataFrame\n",
    "data['Hourly Returns Std Dev'] = hourly_returns_std_dev\n",
    "\n",
    "# Get stock information including beta\n",
    "stock_info = yf.Ticker(ticker)\n",
    "beta = stock_info.info.get('beta', 'N/A')  # Use get to avoid KeyError if beta is not available\n",
    "\n",
    "# Append beta value to the DataFrame\n",
    "data['Beta'] = beta\n",
    "\n",
    "csv_filename = f'{ticker}_stock_prices_hourly_with_beta_and_returns_std_dev.csv'\n",
    "data.to_csv(csv_filename)\n",
    "\n",
    "print(f\"Data saved to '{csv_filename}', including hourly returns, their standard deviation, and beta value.\")"
   ]
  },
  {
   "cell_type": "code",
   "execution_count": 3,
   "metadata": {},
   "outputs": [
    {
     "name": "stdout",
     "output_type": "stream",
     "text": [
      "Data and metrics saved to 'AAPL_financial_metrics.csv'\n"
     ]
    }
   ],
   "source": [
    "import yfinance as yf\n",
    "import numpy as np\n",
    "\n",
    "# Set the stock ticker and date range\n",
    "ticker = 'AAPL'  # For example, for Apple Inc.\n",
    "start_date = '2023-01-01'\n",
    "end_date = '2023-05-01'\n",
    "\n",
    "# Get stock and other financial information\n",
    "stock = yf.Ticker(ticker)\n",
    "info = stock.info\n",
    "\n",
    "# Fetch historical market data\n",
    "data = stock.history(start=start_date, end=end_date)\n",
    "\n",
    "# Calculate dividend yield\n",
    "dividend_yield = info.get('dividendYield', np.nan) * 100  # Convert to percentage\n",
    "\n",
    "# Fetch P/E Ratio\n",
    "pe_ratio = info.get('trailingPE', np.nan)\n",
    "\n",
    "# Calculate the daily returns\n",
    "daily_returns = data['Close'].pct_change()\n",
    "\n",
    "# Assume a risk-free rate (e.g., 1-year Treasury rate, here simplified as 1.5% annually)\n",
    "risk_free_rate = 0.015\n",
    "daily_risk_free_rate = (1 + risk_free_rate) ** (1/252) - 1  # Converting annual rate to daily\n",
    "\n",
    "# Calculate excess returns\n",
    "excess_returns = daily_returns - daily_risk_free_rate\n",
    "\n",
    "# Calculate Sharpe Ratio (annualized)\n",
    "sharpe_ratio = (excess_returns.mean() / excess_returns.std()) * np.sqrt(252)\n",
    "\n",
    "# Save results to CSV\n",
    "results = {\n",
    "    'Beta': info.get('beta', np.nan),\n",
    "    'Dividend Yield (%)': dividend_yield,\n",
    "    'P/E Ratio': pe_ratio,\n",
    "    'Sharpe Ratio': sharpe_ratio\n",
    "}\n",
    "\n",
    "# Append these results to the data DataFrame\n",
    "for key, value in results.items():\n",
    "    data[key] = value\n",
    "\n",
    "csv_filename = f'{ticker}_financial_metrics.csv'\n",
    "data.to_csv(csv_filename)\n",
    "\n",
    "print(f\"Data and metrics saved to '{csv_filename}'\")\n"
   ]
  }
 ],
 "metadata": {
  "kernelspec": {
   "display_name": "base",
   "language": "python",
   "name": "python3"
  },
  "language_info": {
   "codemirror_mode": {
    "name": "ipython",
    "version": 3
   },
   "file_extension": ".py",
   "mimetype": "text/x-python",
   "name": "python",
   "nbconvert_exporter": "python",
   "pygments_lexer": "ipython3",
   "version": "3.11.7"
  },
  "orig_nbformat": 4
 },
 "nbformat": 4,
 "nbformat_minor": 2
}
