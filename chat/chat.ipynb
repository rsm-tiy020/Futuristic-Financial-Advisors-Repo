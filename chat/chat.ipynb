{
 "cells": [
  {
   "cell_type": "code",
   "execution_count": null,
   "metadata": {},
   "outputs": [],
   "source": [
    "from transformers import AutoModelForCausalLM, AutoTokenizer\n",
    "\n",
    "device = \"cpu\" # the device to load the model onto\n",
    "\n",
    "model_name = \"mistralai/Mistral-7B-Instruct-v0.3\"\n",
    "model = AutoModelForCausalLM.from_pretrained(model_name)\n",
    "tokenizer = AutoTokenizer.from_pretrained(model_name)\n",
    "model.to(device);"
   ]
  },
  {
   "cell_type": "code",
   "execution_count": null,
   "metadata": {},
   "outputs": [],
   "source": [
    "\n",
    "risk_profiles = [\n",
    "    \"1. LOW-RISK: You are a conservative investor who is not willing to take on much risk. You are looking for investments that are safe and secure, even if they offer lower returns.\",\n",
    "    \"2. MEDIUM-RISK: You are a moderate investor who is willing to take on some risk in exchange for the potential of higher returns. You are looking for a balanced mix of investments that offer a good combination of safety and growth.\",\n",
    "    \"3. HIGH-RISK: You are an aggressive investor who is willing to take on a lot of risk in exchange for the potential of higher returns. You are looking for investments that offer the highest possible returns, even if they are more volatile and risky.\"\n",
    "]\n",
    "risk_profiles = '\\n'.join(risk_profiles)\n",
    "\n",
    "# user_first_response = f\"I am weathly and looking to invest my money in a conservative portfolio. I am looking for investments that are safe and secure, even if they offer lower returns.\"\n",
    "# user_first_response = f\"I am poor and looking to invest my money in a high growth portfolio. I am looking for investments that are going to earn a lot of money in a short amount of time.\"\n",
    "user_first_response = f\"I am not sure how I want to invest my money. The stock market makes me nervous, but I want to make sure my money is working for me.\"\n",
    "# user_first_response = f\"Purple monkey dishwasher.\"\n",
    "# user_risk = input(\"Hello! What kind of portfolio are you looking to build?\")\n",
    "user_risk = user_first_response + \" \" + f\"You are a FINRA registered investment advisor. Your job is to assign me to one of three risk categories: 1. LOW-RISK, 2. MEDIUM-RISK, 3.HIGH-RISK. Given the descriptions of the three risk categories below, assign me to the risk category that best aligns with my description:\\n\\n### RISK CATEGORIES:\\n{risk_profiles}\\n\\nOnly return the name of the risk category (e.g., 'LOW-RISK').\"\n",
    "if model_name == \"mistralai/Mistral-7B-Instruct-v0.3\":\n",
    "    messages=[{'role': 'user', 'content': user_risk}]"
   ]
  },
  {
   "cell_type": "code",
   "execution_count": null,
   "metadata": {},
   "outputs": [],
   "source": [
    "print(messages)"
   ]
  },
  {
   "cell_type": "code",
   "execution_count": null,
   "metadata": {},
   "outputs": [],
   "source": [
    "encodeds = tokenizer.apply_chat_template(messages, return_tensors=\"pt\")\n",
    "model_inputs = encodeds.to(device)\n",
    "generated_ids = model.generate(model_inputs, max_new_tokens=50, do_sample=True)\n",
    "decoded = tokenizer.batch_decode(generated_ids, skip_special_tokens=True)\n",
    "print(decoded[0].split(messages[-1]['content'])[-1].strip())"
   ]
  },
  {
   "cell_type": "code",
   "execution_count": null,
   "metadata": {},
   "outputs": [],
   "source": [
    "print(user_first_response)\n",
    "print()\n",
    "for risk in ['LOW-RISK', 'MEDIUM-RISK', 'HIGH-RISK']:\n",
    "    if risk.lower() in decoded[0].split(messages[-1]['content'])[-1].strip().lower():\n",
    "        risk_category = risk\n",
    "        break\n",
    "    else:\n",
    "        risk_category = \"UNKNOWN\"\n",
    "\n",
    "print(f'Risk Category: {risk_category}')"
   ]
  },
  {
   "cell_type": "code",
   "execution_count": null,
   "metadata": {},
   "outputs": [],
   "source": [
    "raise"
   ]
  },
  {
   "cell_type": "code",
   "execution_count": null,
   "metadata": {},
   "outputs": [],
   "source": []
  }
 ],
 "metadata": {
  "kernelspec": {
   "display_name": "Python 3 (ipykernel)",
   "language": "python",
   "name": "python3"
  },
  "language_info": {
   "codemirror_mode": {
    "name": "ipython",
    "version": 3
   },
   "file_extension": ".py",
   "mimetype": "text/x-python",
   "name": "python",
   "nbconvert_exporter": "python",
   "pygments_lexer": "ipython3",
   "version": "3.10.12"
  }
 },
 "nbformat": 4,
 "nbformat_minor": 2
}
